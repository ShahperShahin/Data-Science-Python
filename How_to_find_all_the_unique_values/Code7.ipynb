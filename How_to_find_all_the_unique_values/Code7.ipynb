{
 "cells": [
  {
   "cell_type": "markdown",
   "id": "f3f3466a",
   "metadata": {},
   "source": [
    "#  How_to_find_all_the_unique_values"
   ]
  },
  {
   "cell_type": "code",
   "execution_count": 1,
   "id": "eef65cf2",
   "metadata": {},
   "outputs": [],
   "source": [
    "import numpy as np\n",
    "import pandas as pd"
   ]
  },
  {
   "cell_type": "code",
   "execution_count": 2,
   "id": "3ac61bc9",
   "metadata": {},
   "outputs": [],
   "source": [
    "df=pd.read_csv('org.csv')"
   ]
  },
  {
   "cell_type": "code",
   "execution_count": 3,
   "id": "54fb03fc",
   "metadata": {},
   "outputs": [
    {
     "data": {
      "text/html": [
       "<div>\n",
       "<style scoped>\n",
       "    .dataframe tbody tr th:only-of-type {\n",
       "        vertical-align: middle;\n",
       "    }\n",
       "\n",
       "    .dataframe tbody tr th {\n",
       "        vertical-align: top;\n",
       "    }\n",
       "\n",
       "    .dataframe thead th {\n",
       "        text-align: right;\n",
       "    }\n",
       "</style>\n",
       "<table border=\"1\" class=\"dataframe\">\n",
       "  <thead>\n",
       "    <tr style=\"text-align: right;\">\n",
       "      <th></th>\n",
       "      <th>Index</th>\n",
       "      <th>Organization Id</th>\n",
       "      <th>Name</th>\n",
       "      <th>Website</th>\n",
       "      <th>Country</th>\n",
       "      <th>Description</th>\n",
       "      <th>Founded</th>\n",
       "      <th>Industry</th>\n",
       "      <th>Number of employees</th>\n",
       "    </tr>\n",
       "  </thead>\n",
       "  <tbody>\n",
       "    <tr>\n",
       "      <th>0</th>\n",
       "      <td>1</td>\n",
       "      <td>FAB0d41d5b5d22c</td>\n",
       "      <td>Ferrell LLC</td>\n",
       "      <td>https://price.net/</td>\n",
       "      <td>Papua New Guinea</td>\n",
       "      <td>Horizontal empowering knowledgebase</td>\n",
       "      <td>1990</td>\n",
       "      <td>Plastics</td>\n",
       "      <td>3498</td>\n",
       "    </tr>\n",
       "    <tr>\n",
       "      <th>1</th>\n",
       "      <td>2</td>\n",
       "      <td>6A7EdDEA9FaDC52</td>\n",
       "      <td>Mckinney, Riley and Day</td>\n",
       "      <td>http://www.hall-buchanan.info/</td>\n",
       "      <td>Finland</td>\n",
       "      <td>User-centric system-worthy leverage</td>\n",
       "      <td>2015</td>\n",
       "      <td>Glass / Ceramics / Concrete</td>\n",
       "      <td>4952</td>\n",
       "    </tr>\n",
       "    <tr>\n",
       "      <th>2</th>\n",
       "      <td>3</td>\n",
       "      <td>0bFED1ADAE4bcC1</td>\n",
       "      <td>Hester Ltd</td>\n",
       "      <td>http://sullivan-reed.com/</td>\n",
       "      <td>China</td>\n",
       "      <td>Switchable scalable moratorium</td>\n",
       "      <td>1971</td>\n",
       "      <td>Public Safety</td>\n",
       "      <td>5287</td>\n",
       "    </tr>\n",
       "    <tr>\n",
       "      <th>3</th>\n",
       "      <td>4</td>\n",
       "      <td>2bFC1Be8a4ce42f</td>\n",
       "      <td>Holder-Sellers</td>\n",
       "      <td>https://becker.com/</td>\n",
       "      <td>Turkmenistan</td>\n",
       "      <td>De-engineered systemic artificial intelligence</td>\n",
       "      <td>2004</td>\n",
       "      <td>Automotive</td>\n",
       "      <td>921</td>\n",
       "    </tr>\n",
       "    <tr>\n",
       "      <th>4</th>\n",
       "      <td>5</td>\n",
       "      <td>9eE8A6a4Eb96C24</td>\n",
       "      <td>Mayer Group</td>\n",
       "      <td>http://www.brewer.com/</td>\n",
       "      <td>Mauritius</td>\n",
       "      <td>Synchronized needs-based challenge</td>\n",
       "      <td>1991</td>\n",
       "      <td>Transportation</td>\n",
       "      <td>7870</td>\n",
       "    </tr>\n",
       "  </tbody>\n",
       "</table>\n",
       "</div>"
      ],
      "text/plain": [
       "   Index  Organization Id                     Name  \\\n",
       "0      1  FAB0d41d5b5d22c              Ferrell LLC   \n",
       "1      2  6A7EdDEA9FaDC52  Mckinney, Riley and Day   \n",
       "2      3  0bFED1ADAE4bcC1               Hester Ltd   \n",
       "3      4  2bFC1Be8a4ce42f           Holder-Sellers   \n",
       "4      5  9eE8A6a4Eb96C24              Mayer Group   \n",
       "\n",
       "                          Website           Country  \\\n",
       "0              https://price.net/  Papua New Guinea   \n",
       "1  http://www.hall-buchanan.info/           Finland   \n",
       "2       http://sullivan-reed.com/             China   \n",
       "3             https://becker.com/      Turkmenistan   \n",
       "4          http://www.brewer.com/         Mauritius   \n",
       "\n",
       "                                      Description  Founded  \\\n",
       "0             Horizontal empowering knowledgebase     1990   \n",
       "1             User-centric system-worthy leverage     2015   \n",
       "2                  Switchable scalable moratorium     1971   \n",
       "3  De-engineered systemic artificial intelligence     2004   \n",
       "4              Synchronized needs-based challenge     1991   \n",
       "\n",
       "                      Industry  Number of employees  \n",
       "0                     Plastics                 3498  \n",
       "1  Glass / Ceramics / Concrete                 4952  \n",
       "2                Public Safety                 5287  \n",
       "3                   Automotive                  921  \n",
       "4               Transportation                 7870  "
      ]
     },
     "execution_count": 3,
     "metadata": {},
     "output_type": "execute_result"
    }
   ],
   "source": [
    "df.head()"
   ]
  },
  {
   "cell_type": "code",
   "execution_count": 4,
   "id": "ed4eeb3c",
   "metadata": {},
   "outputs": [
    {
     "data": {
      "text/plain": [
       "array(['Plastics', 'Glass / Ceramics / Concrete', 'Public Safety',\n",
       "       'Automotive', 'Transportation', 'Primary / Secondary Education',\n",
       "       'Publishing Industry', 'Import / Export',\n",
       "       'Outsourcing / Offshoring', 'Food / Beverages',\n",
       "       'Museums / Institutions', 'Medical Practice', 'Maritime',\n",
       "       'Facilities Services',\n",
       "       'Investment Management / Hedge Fund / Private Equity',\n",
       "       'Architecture / Planning', 'Wholesale', 'Construction',\n",
       "       'Luxury Goods / Jewelry', 'Pharmaceuticals', 'Insurance',\n",
       "       'Real Estate / Mortgage', 'Banking / Mortgage', 'Legal Services',\n",
       "       'Logistics / Procurement', 'Civil Engineering',\n",
       "       'Mechanical or Industrial Engineering', 'Hospitality',\n",
       "       'Venture Capital / VC', 'Utilities', 'Human Resources / HR',\n",
       "       'Legislative Office', 'Music',\n",
       "       'Electrical / Electronic Manufacturing',\n",
       "       'Non - Profit / Volunteering', 'Writing / Editing',\n",
       "       'Capital Markets / Hedge Fund / Private Equity',\n",
       "       'Individual / Family Services', 'Online Publishing',\n",
       "       'Civic / Social Organization', 'Arts / Crafts', 'Consumer Goods',\n",
       "       'Printing', 'Mental Health Care', 'Management Consulting',\n",
       "       'Broadcast Media', 'Farming', 'Entertainment / Movie Production',\n",
       "       'International Trade / Development',\n",
       "       'Business Supplies / Equipment', 'Marketing / Advertising / Sales',\n",
       "       'Textiles', 'Consumer Electronics', 'Building Materials',\n",
       "       'Public Relations / PR', 'Information Technology / IT',\n",
       "       'Military Industry', 'Wireless', 'International Affairs',\n",
       "       'Accounting', 'Computer Software / Engineering', 'Law Enforcement',\n",
       "       'Financial Services', 'Religious Institutions',\n",
       "       'Alternative Dispute Resolution', 'Telecommunications',\n",
       "       'Semiconductors', 'Newspapers / Journalism', 'Gambling / Casinos',\n",
       "       'Photography', 'Consumer Services', 'Education Management'],\n",
       "      dtype=object)"
      ]
     },
     "execution_count": 4,
     "metadata": {},
     "output_type": "execute_result"
    }
   ],
   "source": [
    "df['Industry'].unique()"
   ]
  },
  {
   "cell_type": "markdown",
   "id": "19064911",
   "metadata": {},
   "source": [
    "Obsservation: df['Industry'].unique() this command shows all the types of industries"
   ]
  },
  {
   "cell_type": "code",
   "execution_count": 5,
   "id": "a4fa0b27",
   "metadata": {},
   "outputs": [
    {
     "data": {
      "text/plain": [
       "72"
      ]
     },
     "execution_count": 5,
     "metadata": {},
     "output_type": "execute_result"
    }
   ],
   "source": [
    "df['Industry'].unique().size"
   ]
  },
  {
   "cell_type": "markdown",
   "id": "0175b68b",
   "metadata": {},
   "source": [
    "Observation: There are total 72 types of industries in Industry column"
   ]
  }
 ],
 "metadata": {
  "kernelspec": {
   "display_name": "Python 3 (ipykernel)",
   "language": "python",
   "name": "python3"
  },
  "language_info": {
   "codemirror_mode": {
    "name": "ipython",
    "version": 3
   },
   "file_extension": ".py",
   "mimetype": "text/x-python",
   "name": "python",
   "nbconvert_exporter": "python",
   "pygments_lexer": "ipython3",
   "version": "3.9.13"
  }
 },
 "nbformat": 4,
 "nbformat_minor": 5
}
